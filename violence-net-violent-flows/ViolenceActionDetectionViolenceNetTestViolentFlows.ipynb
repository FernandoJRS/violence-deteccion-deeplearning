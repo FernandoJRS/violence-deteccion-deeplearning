{
 "cells": [
  {
   "cell_type": "code",
   "execution_count": 1,
   "metadata": {
    "collapsed": true
   },
   "outputs": [],
   "source": [
    "import random\n",
    "import time\n",
    "import tensorflow as tf\n",
    "import os\n",
    "import sklearn\n",
    "import cv2\n",
    "import numpy as np\n",
    "\n",
    "from sklearn.model_selection import StratifiedKFold\n",
    "from keras.utils import np_utils"
   ]
  },
  {
   "cell_type": "markdown",
   "source": [
    "## Utils Functions for Pre-processing Data"
   ],
   "metadata": {
    "collapsed": false
   }
  },
  {
   "cell_type": "code",
   "execution_count": 2,
   "outputs": [],
   "source": [
    "def extract_videos3D(video_input_file_path, height, width):\n",
    "    '''\n",
    "    The extract_videos3D function reads a video and returns a list of frames as output.\n",
    "    '''\n",
    "    video_frames = list()\n",
    "    cap = cv2.VideoCapture(video_input_file_path)\n",
    "    while cap.isOpened():\n",
    "\n",
    "        ret, frame = cap.read()\n",
    "\n",
    "        if ret:\n",
    "            frame = cv2.resize(frame, (width, height))\n",
    "            video_frames.append(frame)\n",
    "\n",
    "        else:\n",
    "            break\n",
    "\n",
    "    cap.release()\n",
    "    cv2.destroyAllWindows()\n",
    "\n",
    "    return video_frames\n",
    "\n",
    "def extract_videos3D_optical_flow(video_input_file_path, height, width):\n",
    "    '''\n",
    "    The extract_videos3D function reads a video and returns as output a list of frames processed as optical flow.\n",
    "    '''\n",
    "    video_frames_optical_flow = list()\n",
    "    i = 0\n",
    "    cap = cv2.VideoCapture(video_input_file_path)\n",
    "    ret1, frame1 = cap.read()\n",
    "    frame1 = cv2.resize(frame1, (width, height))\n",
    "    prvs = cv2.cvtColor(frame1, cv2.COLOR_BGR2GRAY)\n",
    "    hsv = np.zeros_like(frame1)\n",
    "    hsv[..., 1] = 255\n",
    "\n",
    "    if not cap.isOpened():\n",
    "        print(\"Error opening video stream or file\")\n",
    "\n",
    "    while cap.isOpened():\n",
    "\n",
    "        ret2, frame2 = cap.read()\n",
    "\n",
    "        if ret2:\n",
    "\n",
    "            frame2 = cv2.resize(frame2, (width, height))\n",
    "            next = cv2.cvtColor(frame2, cv2.COLOR_BGR2GRAY)\n",
    "            flow = cv2.calcOpticalFlowFarneback(prvs, next, None, 0.5, 3, 15, 3, 5, 1.2, 0)\n",
    "            mag, ang = cv2.cartToPolar(flow[..., 0], flow[..., 1])\n",
    "            hsv[..., 0] = ang * 180 / np.pi / 2\n",
    "            hsv[..., 2] = cv2.normalize(mag, None, 0, 255, cv2.NORM_MINMAX)\n",
    "            bgr = cv2.cvtColor(hsv, cv2.COLOR_HSV2BGR)\n",
    "            video_frames_optical_flow.append(bgr)\n",
    "        else:\n",
    "            break\n",
    "\n",
    "        i += 1\n",
    "        prvs = next\n",
    "\n",
    "    cap.release()\n",
    "    cv2.destroyAllWindows()\n",
    "    return video_frames_optical_flow\n",
    "\n",
    "\n",
    "def extract_videos3D_frames_substraction(video_input_file_path, height, width):\n",
    "    '''\n",
    "    The extract_videos3D function reads a video and returns as output a list of frames processed as the subtraction between two consecutive frames.\n",
    "    '''\n",
    "    video_frames = list()\n",
    "    cap = cv2.VideoCapture(video_input_file_path)\n",
    "    ret1, frame1 = cap.read()\n",
    "    frame1 = cv2.resize(frame1, (width, height))\n",
    "\n",
    "    while cap.isOpened():\n",
    "\n",
    "        ret2, frame2 = cap.read()\n",
    "        if ret2:\n",
    "            frame2 = cv2.resize(frame2, (width, height))\n",
    "            frame = frame1 - frame2\n",
    "            video_frames.append(frame)\n",
    "        else:\n",
    "            break\n",
    "\n",
    "        frame1 = frame2\n",
    "\n",
    "    cap.release()\n",
    "    cv2.destroyAllWindows()\n",
    "    return video_frames"
   ],
   "metadata": {
    "collapsed": false,
    "pycharm": {
     "name": "#%%\n"
    }
   }
  },
  {
   "cell_type": "markdown",
   "source": [
    "## Classifier Model Definition"
   ],
   "metadata": {
    "collapsed": false
   }
  },
  {
   "cell_type": "code",
   "execution_count": 3,
   "outputs": [],
   "source": [
    "class ClassifierHAR3D(object):\n",
    "\n",
    "    def __init__(self):\n",
    "\n",
    "        self.width = None\n",
    "        self.height = None\n",
    "        self.channels = None\n",
    "        self.time = None\n",
    "        self.batch_size_train = None\n",
    "        self.batch_size_validation = None\n",
    "        self.batch_size_test = None\n",
    "        self.labels = None\n",
    "        self.pathTrain = None\n",
    "        self.pathTest = None\n",
    "        self.pathValidation = None\n",
    "        self.ftr = None\n",
    "        self.ftv = None\n",
    "        self.fts = None\n",
    "        self.ftr_labels = None\n",
    "        self.ftv_labels = None\n",
    "        self.fts_labels = None\n",
    "        self.predictions = None\n",
    "\n",
    "\n",
    "    def generatorTest3D(self):\n",
    "\n",
    "        while True:\n",
    "\n",
    "            for count in range(int(len(self.fts) / self.batch_size_test)):\n",
    "\n",
    "                batch_start = self.batch_size_test * count\n",
    "                batch_stop = self.batch_size_test + (self.batch_size_test * count)\n",
    "\n",
    "                lx1 = list()\n",
    "                ly = list()\n",
    "\n",
    "                for i in range(batch_start, batch_stop):\n",
    "\n",
    "                    if self.fts[i] != '.ipynb_checkpoints':\n",
    "\n",
    "                        ly.append(self.fts_labels[i])\n",
    "\n",
    "                        optical_flow = extract_videos3D(self.pathTest + self.fts[i], self.height, self.width)\n",
    "\n",
    "                        if len(optical_flow) < self.time:\n",
    "                            while len(optical_flow) < self.time:\n",
    "                                optical_flow.append(optical_flow[-1])\n",
    "                        else:\n",
    "                            optical_flow = optical_flow[0:self.time]\n",
    "\n",
    "                        lx1.append(optical_flow)\n",
    "\n",
    "                x1 = np.array(lx1)\n",
    "                x1 = x1.astype('float32')\n",
    "                x1 /= 255\n",
    "                x1 = x1.reshape((x1.shape[0], self.time, self.height, self.width, self.channels))\n",
    "\n",
    "                y = np.array(ly)\n",
    "                y = np_utils.to_categorical(y, len(self.labels))\n",
    "\n",
    "                yield x1, y"
   ],
   "metadata": {
    "collapsed": false,
    "pycharm": {
     "name": "#%%\n"
    }
   }
  },
  {
   "cell_type": "markdown",
   "source": [
    "## Load and Evaluate Model"
   ],
   "metadata": {
    "collapsed": false
   }
  },
  {
   "cell_type": "code",
   "execution_count": 4,
   "outputs": [],
   "source": [
    "iteration = 1\n",
    "\n",
    "datasets_path = ['movies_fights/', 'hockey_fights/', 'violent_flows/']\n",
    "data_set = datasets_path[2] + 'Data/'\n",
    "\n",
    "\n",
    "X, y = list(), list()\n",
    "\n",
    "for file in os.listdir(data_set):\n",
    "    if 'NV' in file:\n",
    "        y.append(0)\n",
    "        X.append(file)\n",
    "    else:\n",
    "        y.append(1)\n",
    "        X.append(file)\n",
    "\n",
    "X = np.array(X)\n",
    "y = np.array(y)\n",
    "\n",
    "X_train, X_test, y_train, y_test = None, None, None, None\n",
    "\n",
    "skf = StratifiedKFold(n_splits=5, shuffle=True, random_state=3)\n",
    "for train_index, test_index in skf.split(X, y):\n",
    "    X_train, X_test = X[train_index], X[test_index]\n",
    "    y_train, y_test = y[train_index], y[test_index]\n",
    "\n",
    "trainXY = list(zip(X_train, y_train))\n",
    "testXY = list(zip(X_test, y_test))\n",
    "\n",
    "random.shuffle(trainXY)\n",
    "random.shuffle(testXY)\n",
    "\n",
    "X_train, y_train = zip(*trainXY)\n",
    "X_test, y_test = zip(*testXY)\n",
    "\n",
    "classifier = ClassifierHAR3D()\n",
    "classifier.channels = 3\n",
    "classifier.width = 100\n",
    "classifier.height = 100\n",
    "classifier.time = 50\n",
    "classifier.batch_size_train = 8\n",
    "classifier.batch_size_test = 1\n",
    "classifier.labels = [0, 1]\n",
    "classifier.pathTrain = data_set\n",
    "classifier.pathTest = data_set\n",
    "classifier.ftr = X_train\n",
    "classifier.fts = X_test\n",
    "classifier.ftr_labels = y_train\n",
    "classifier.fts_labels = y_test\n",
    "\n",
    "model = tf.keras.models.load_model('violent_flows/Results/model.h5', compile=True)\n",
    "\n",
    "model.compile(optimizer=tf.keras.optimizers.Adam(),\n",
    "              loss=tf.keras.losses.CategoricalCrossentropy(),\n",
    "              metrics=[tf.keras.metrics.CategoricalAccuracy()])"
   ],
   "metadata": {
    "collapsed": false,
    "pycharm": {
     "name": "#%%\n"
    }
   }
  },
  {
   "cell_type": "code",
   "execution_count": 5,
   "outputs": [
    {
     "name": "stdout",
     "output_type": "stream",
     "text": [
      "49/49 - 13s - 13s/epoch - 260ms/step\n",
      "Inference time: 0.26110004892154615\n"
     ]
    }
   ],
   "source": [
    "start = time.time()\n",
    "classifier.predictions = model.predict(classifier.generatorTest3D(),\n",
    "                                       steps=len(classifier.fts) / classifier.batch_size_test,\n",
    "                                       max_queue_size=10,\n",
    "                                       verbose=2)\n",
    "end = time.time()\n",
    "print('Inference time: ' + str((end - start)/len(classifier.fts)))\n",
    "\n",
    "classifier.predictions = np.argmax(classifier.predictions, axis=1)\n",
    "test_accuracy = sklearn.metrics.accuracy_score(classifier.fts_labels, classifier.predictions, normalize=True)"
   ],
   "metadata": {
    "collapsed": false,
    "pycharm": {
     "name": "#%%\n"
    }
   }
  },
  {
   "cell_type": "code",
   "execution_count": 6,
   "outputs": [
    {
     "name": "stdout",
     "output_type": "stream",
     "text": [
      "Accurcay Score: 1.0\n"
     ]
    }
   ],
   "source": [
    "print('Accurcay Score: ' + str(test_accuracy))"
   ],
   "metadata": {
    "collapsed": false,
    "pycharm": {
     "name": "#%%\n"
    }
   }
  },
  {
   "cell_type": "code",
   "execution_count": 7,
   "outputs": [],
   "source": [
    "iteration += 1"
   ],
   "metadata": {
    "collapsed": false,
    "pycharm": {
     "name": "#%%\n"
    }
   }
  }
 ],
 "metadata": {
  "kernelspec": {
   "display_name": "Python 3",
   "language": "python",
   "name": "python3"
  },
  "language_info": {
   "codemirror_mode": {
    "name": "ipython",
    "version": 2
   },
   "file_extension": ".py",
   "mimetype": "text/x-python",
   "name": "python",
   "nbconvert_exporter": "python",
   "pygments_lexer": "ipython2",
   "version": "2.7.6"
  }
 },
 "nbformat": 4,
 "nbformat_minor": 0
}